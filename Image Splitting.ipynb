{
 "cells": [
  {
   "cell_type": "code",
   "execution_count": 1,
   "metadata": {},
   "outputs": [],
   "source": [
    "import cv2\n",
    "import numpy as np\n",
    "import matplotlib.pyplot as plt"
   ]
  },
  {
   "cell_type": "code",
   "execution_count": 2,
   "metadata": {},
   "outputs": [],
   "source": [
    "img = cv2.imread('monster_hellbone_sword.png')\n",
    "#img = cv2.cvtColor(img,cv2.COLOR_BGR2BGRA)\n",
    "contoured = cv2.imread('monster_hellbone_sword.png')"
   ]
  },
  {
   "cell_type": "code",
   "execution_count": 3,
   "metadata": {},
   "outputs": [
    {
     "data": {
      "text/plain": [
       "True"
      ]
     },
     "execution_count": 3,
     "metadata": {},
     "output_type": "execute_result"
    }
   ],
   "source": [
    "gray = cv2.cvtColor(contoured,cv2.COLOR_BGR2GRAY) # grayscale\n",
    "cv2.imwrite(\"gray.png\", gray)\n",
    "\n",
    "_,thresh = cv2.threshold(gray,10,255,cv2.THRESH_BINARY) \n",
    "#threshold\n",
    "kernel = cv2.getStructuringElement(cv2.MORPH_CROSS,(3,3))\n",
    "dilated = cv2.dilate(thresh,kernel,iterations = 1) # dilate\n",
    "cv2.imwrite(\"dilated.png\", dilated)\n",
    "\n",
    "contours, hierarchy = cv2.findContours(dilated,cv2.RETR_EXTERNAL,cv2.CHAIN_APPROX_NONE) \n",
    "\n",
    "for index, contour in enumerate(contours):\n",
    " \n",
    "    # get rectangle bounding contour\n",
    " \n",
    "    [x,y,w,h] = cv2.boundingRect(contour)\n",
    "    # discard areas that are too large\n",
    " \n",
    "    if h>60 and w>60:\n",
    "        continue\n",
    " \n",
    "    if h<25 or w<25:\n",
    "        continue\n",
    "        \n",
    "    # draw rectangle around contour on original image\n",
    "    cv2.rectangle(contoured,(x,y),(x+w,y+h),(255,0,255),2)\n",
    "    \n",
    "    cropped = img[y:y+h,x:x+w]\n",
    "    tmp = cv2.cvtColor(cropped, cv2.COLOR_BGR2GRAY)\n",
    "    _,alpha = cv2.threshold(tmp,0,255,cv2.THRESH_BINARY)\n",
    "    b, g, r = cv2.split(cropped)\n",
    "    rgba = [b,g,r, alpha]\n",
    "    dst = cv2.merge(rgba,4)\n",
    "    \n",
    "    cv2.imwrite(\"hellbone/\" + str(index) + \".png\", dst)\n",
    "    \n",
    "# write original image with added contours to disk  \n",
    "cv2.imwrite(\"contoured.png\", contoured)"
   ]
  },
  {
   "cell_type": "code",
   "execution_count": null,
   "metadata": {},
   "outputs": [],
   "source": []
  }
 ],
 "metadata": {
  "kernelspec": {
   "display_name": "Python 3",
   "language": "python",
   "name": "python3"
  },
  "language_info": {
   "codemirror_mode": {
    "name": "ipython",
    "version": 3
   },
   "file_extension": ".py",
   "mimetype": "text/x-python",
   "name": "python",
   "nbconvert_exporter": "python",
   "pygments_lexer": "ipython3",
   "version": "3.7.2"
  }
 },
 "nbformat": 4,
 "nbformat_minor": 2
}
